{
 "cells": [
  {
   "cell_type": "markdown",
   "metadata": {},
   "source": [
    "# Final Project"
   ]
  },
  {
   "cell_type": "code",
   "execution_count": 1,
   "metadata": {},
   "outputs": [],
   "source": [
    "import matplotlib.pyplot as plt\n",
    "import pandas as pd\n",
    "import numpy as np\n",
    "from scipy.spatial.distance import euclidean\n",
    "from sklearn.feature_extraction.text import CountVectorizer\n",
    "from sklearn.feature_extraction.text import TfidfTransformer\n"
   ]
  },
  {
   "cell_type": "code",
   "execution_count": 2,
   "metadata": {},
   "outputs": [],
   "source": [
    "import warnings\n",
    "warnings.filterwarnings('ignore')\n",
    "import pandas as pd\n",
    "from helper import get_train_test, lowercase, tokenize, remove_punctuation, remove_stopwords, \\\n",
    "    remove_non_letters, stemming, correct_spelling, reduce_lengthening, subsampling, save_preprocessed_data, \\\n",
    "    get_categories, get_train_test_data, get_label_encoder\n",
    "    \n",
    "config = {\n",
    "    'lowercase': True,\n",
    "    'stemming': True,\n",
    "    'remove_stopwords': True,\n",
    "    'remove_non_letters': True,\n",
    "    'remove_punctuation': True,\n",
    "    'correct_spelling': True,\n",
    "    'reduce_lengthening': True,\n",
    "    'subsampling': False,\n",
    "    'use_checkpoint':True\n",
    "}\n"
   ]
  },
  {
   "cell_type": "markdown",
   "metadata": {},
   "source": [
    "## Preprocessing"
   ]
  },
  {
   "cell_type": "code",
   "execution_count": 4,
   "metadata": {},
   "outputs": [],
   "source": [
    "if not config['use_checkpoint']:\n",
    "    train, test = get_train_test_data('train_data.txt', 'test_data.txt')\n",
    "\n",
    "    # subsampling\n",
    "    if config['subsampling']:\n",
    "        subsampling(train)\n",
    "        subsampling(test)\n",
    "\n",
    "    # lowercasing\n",
    "    if config['lowercase']:\n",
    "        lowercase(train)\n",
    "        lowercase(test)\n",
    "\n",
    "    # removing non letters\n",
    "    if config['remove_non_letters']:\n",
    "        remove_non_letters(train)\n",
    "        remove_non_letters(test)\n",
    "\n",
    "    # removing punctuation\n",
    "    if config['remove_punctuation']:\n",
    "        remove_punctuation(train)\n",
    "        remove_punctuation(test)\n",
    "\n",
    "    # tokenizing\n",
    "    tokenize(train)\n",
    "    tokenize(test)\n",
    "\n",
    "    # reducing length\n",
    "    if config['reduce_lengthening']:\n",
    "        reduce_lengthening(train)\n",
    "        reduce_lengthening(test)\n",
    "\n",
    "    # correcting spelling\n",
    "    if config['correct_spelling']:\n",
    "        correct_spelling(train)\n",
    "        correct_spelling(test)\n",
    "\n",
    "    # removing stopwords\n",
    "    if config['remove_stopwords']:\n",
    "        remove_stopwords(train)\n",
    "        remove_stopwords(test)\n",
    "\n",
    "    # stemming\n",
    "    if config['stemming']:\n",
    "        stemming(train)\n",
    "        stemming(test)\n",
    "\n",
    "    # saving preprocessed data\n",
    "    save_preprocessed_data(train, 'train_data.pkl')\n",
    "    save_preprocessed_data(test, 'test_data.pkl')"
   ]
  },
  {
   "cell_type": "markdown",
   "metadata": {},
   "source": [
    "## Checkpoint"
   ]
  },
  {
   "cell_type": "code",
   "metadata": {},
   "outputs": [],
   "source": [
    "from helper import load_preprocessed_data\n",
    "\n",
    "train, test = load_preprocessed_data('train_data.pkl', 'test_data.pkl')"
   ]
  },
  {
   "cell_type": "markdown",
   "metadata": {},
   "source": [
    "# Statistics"
   ]
  },
  {
   "cell_type": "code",
   "execution_count": 6,
   "metadata": {},
   "outputs": [],
   "source": [
    "train_df = pd.DataFrame(train)\n",
    "test_df = pd.DataFrame(test)"
   ]
  },
  {
   "cell_type": "markdown",
   "metadata": {},
   "source": [
    "# 1.a Categories frequency"
   ]
  },
  {
   "cell_type": "code",
   "execution_count": 7,
   "metadata": {},
   "outputs": [
    {
     "data": {
      "text/html": [
       "<div>\n",
       "<style scoped>\n",
       "    .dataframe tbody tr th:only-of-type {\n",
       "        vertical-align: middle;\n",
       "    }\n",
       "\n",
       "    .dataframe tbody tr th {\n",
       "        vertical-align: top;\n",
       "    }\n",
       "\n",
       "    .dataframe thead th {\n",
       "        text-align: right;\n",
       "    }\n",
       "</style>\n",
       "<table border=\"1\" class=\"dataframe\">\n",
       "  <thead>\n",
       "    <tr style=\"text-align: right;\">\n",
       "      <th></th>\n",
       "      <th>Counts</th>\n",
       "    </tr>\n",
       "  </thead>\n",
       "  <tbody>\n",
       "    <tr>\n",
       "      <th>Entertainment</th>\n",
       "      <td>2853</td>\n",
       "    </tr>\n",
       "    <tr>\n",
       "      <th>Relationships</th>\n",
       "      <td>2381</td>\n",
       "    </tr>\n",
       "    <tr>\n",
       "      <th>Culture</th>\n",
       "      <td>1685</td>\n",
       "    </tr>\n",
       "    <tr>\n",
       "      <th>Health</th>\n",
       "      <td>1501</td>\n",
       "    </tr>\n",
       "    <tr>\n",
       "      <th>Computers</th>\n",
       "      <td>1396</td>\n",
       "    </tr>\n",
       "    <tr>\n",
       "      <th>Science</th>\n",
       "      <td>1078</td>\n",
       "    </tr>\n",
       "    <tr>\n",
       "      <th>Education</th>\n",
       "      <td>896</td>\n",
       "    </tr>\n",
       "    <tr>\n",
       "      <th>Politics</th>\n",
       "      <td>888</td>\n",
       "    </tr>\n",
       "    <tr>\n",
       "      <th>Business</th>\n",
       "      <td>731</td>\n",
       "    </tr>\n",
       "    <tr>\n",
       "      <th>Style</th>\n",
       "      <td>667</td>\n",
       "    </tr>\n",
       "    <tr>\n",
       "      <th>Sports</th>\n",
       "      <td>666</td>\n",
       "    </tr>\n",
       "    <tr>\n",
       "      <th>Parenting</th>\n",
       "      <td>654</td>\n",
       "    </tr>\n",
       "    <tr>\n",
       "      <th>Recreation</th>\n",
       "      <td>584</td>\n",
       "    </tr>\n",
       "    <tr>\n",
       "      <th>Electronics</th>\n",
       "      <td>569</td>\n",
       "    </tr>\n",
       "    <tr>\n",
       "      <th>Arts</th>\n",
       "      <td>563</td>\n",
       "    </tr>\n",
       "    <tr>\n",
       "      <th>Foods</th>\n",
       "      <td>516</td>\n",
       "    </tr>\n",
       "    <tr>\n",
       "      <th>Transportation</th>\n",
       "      <td>511</td>\n",
       "    </tr>\n",
       "    <tr>\n",
       "      <th>Pets</th>\n",
       "      <td>462</td>\n",
       "    </tr>\n",
       "    <tr>\n",
       "      <th>Travel</th>\n",
       "      <td>450</td>\n",
       "    </tr>\n",
       "    <tr>\n",
       "      <th>Home</th>\n",
       "      <td>347</td>\n",
       "    </tr>\n",
       "    <tr>\n",
       "      <th>Other</th>\n",
       "      <td>324</td>\n",
       "    </tr>\n",
       "    <tr>\n",
       "      <th>Social</th>\n",
       "      <td>278</td>\n",
       "    </tr>\n",
       "  </tbody>\n",
       "</table>\n",
       "</div>"
      ],
      "text/plain": [
       "                Counts\n",
       "Entertainment     2853\n",
       "Relationships     2381\n",
       "Culture           1685\n",
       "Health            1501\n",
       "Computers         1396\n",
       "Science           1078\n",
       "Education          896\n",
       "Politics           888\n",
       "Business           731\n",
       "Style              667\n",
       "Sports             666\n",
       "Parenting          654\n",
       "Recreation         584\n",
       "Electronics        569\n",
       "Arts               563\n",
       "Foods              516\n",
       "Transportation     511\n",
       "Pets               462\n",
       "Travel             450\n",
       "Home               347\n",
       "Other              324\n",
       "Social             278"
      ]
     },
     "execution_count": 7,
     "metadata": {},
     "output_type": "execute_result"
    }
   ],
   "source": [
    "category_counts = pd.value_counts(train['category'])\n",
    "pd.DataFrame(category_counts,columns=['Counts'])"
   ]
  },
  {
   "cell_type": "code",
   "execution_count": 8,
   "metadata": {},
   "outputs": [
    {
     "data": {
      "text/plain": [
       "<matplotlib.axes._subplots.AxesSubplot at 0x7f394a6615d0>"
      ]
     },
     "execution_count": 8,
     "metadata": {},
     "output_type": "execute_result"
    },
    {
     "data": {
      "image/png": "[encoded data removed]",
      "text/plain": [
       "<matplotlib.figure.Figure at 0x7f3955e18210>"
      ]
     },
     "metadata": {},
     "output_type": "display_data"
    }
   ],
   "source": [
    "category_counts.sort_values(ascending=False).plot(kind='bar',figsize=(20,10))"
   ]
  },
  {
   "cell_type": "markdown",
   "metadata": {},
   "source": [
    "# 1.b Avarage sentence length per category"
   ]
  },
  {
   "cell_type": "code",
   "execution_count": 9,
   "metadata": {},
   "outputs": [],
   "source": [
    "train_df['sentence_length'] = train_df.apply(lambda x: len(x['content']) + len(x['subject']),axis=1)"
   ]
  },
  {
   "cell_type": "code",
   "execution_count": 10,
   "metadata": {},
   "outputs": [
    {
     "data": {
      "text/html": [
       "<div>\n",
       "<style scoped>\n",
       "    .dataframe tbody tr th:only-of-type {\n",
       "        vertical-align: middle;\n",
       "    }\n",
       "\n",
       "    .dataframe tbody tr th {\n",
       "        vertical-align: top;\n",
       "    }\n",
       "\n",
       "    .dataframe thead th {\n",
       "        text-align: right;\n",
       "    }\n",
       "</style>\n",
       "<table border=\"1\" class=\"dataframe\">\n",
       "  <thead>\n",
       "    <tr style=\"text-align: right;\">\n",
       "      <th></th>\n",
       "      <th>sentence_length</th>\n",
       "    </tr>\n",
       "    <tr>\n",
       "      <th>category</th>\n",
       "      <th></th>\n",
       "    </tr>\n",
       "  </thead>\n",
       "  <tbody>\n",
       "    <tr>\n",
       "      <th>Arts</th>\n",
       "      <td>17</td>\n",
       "    </tr>\n",
       "    <tr>\n",
       "      <th>Business</th>\n",
       "      <td>21</td>\n",
       "    </tr>\n",
       "    <tr>\n",
       "      <th>Computers</th>\n",
       "      <td>19</td>\n",
       "    </tr>\n",
       "    <tr>\n",
       "      <th>Culture</th>\n",
       "      <td>21</td>\n",
       "    </tr>\n",
       "    <tr>\n",
       "      <th>Education</th>\n",
       "      <td>16</td>\n",
       "    </tr>\n",
       "    <tr>\n",
       "      <th>Electronics</th>\n",
       "      <td>17</td>\n",
       "    </tr>\n",
       "    <tr>\n",
       "      <th>Entertainment</th>\n",
       "      <td>17</td>\n",
       "    </tr>\n",
       "    <tr>\n",
       "      <th>Foods</th>\n",
       "      <td>14</td>\n",
       "    </tr>\n",
       "    <tr>\n",
       "      <th>Health</th>\n",
       "      <td>21</td>\n",
       "    </tr>\n",
       "    <tr>\n",
       "      <th>Home</th>\n",
       "      <td>19</td>\n",
       "    </tr>\n",
       "    <tr>\n",
       "      <th>Other</th>\n",
       "      <td>18</td>\n",
       "    </tr>\n",
       "    <tr>\n",
       "      <th>Parenting</th>\n",
       "      <td>28</td>\n",
       "    </tr>\n",
       "    <tr>\n",
       "      <th>Pets</th>\n",
       "      <td>24</td>\n",
       "    </tr>\n",
       "    <tr>\n",
       "      <th>Politics</th>\n",
       "      <td>22</td>\n",
       "    </tr>\n",
       "    <tr>\n",
       "      <th>Recreation</th>\n",
       "      <td>16</td>\n",
       "    </tr>\n",
       "    <tr>\n",
       "      <th>Relationships</th>\n",
       "      <td>31</td>\n",
       "    </tr>\n",
       "    <tr>\n",
       "      <th>Science</th>\n",
       "      <td>15</td>\n",
       "    </tr>\n",
       "    <tr>\n",
       "      <th>Social</th>\n",
       "      <td>21</td>\n",
       "    </tr>\n",
       "    <tr>\n",
       "      <th>Sports</th>\n",
       "      <td>17</td>\n",
       "    </tr>\n",
       "    <tr>\n",
       "      <th>Style</th>\n",
       "      <td>19</td>\n",
       "    </tr>\n",
       "    <tr>\n",
       "      <th>Transportation</th>\n",
       "      <td>19</td>\n",
       "    </tr>\n",
       "    <tr>\n",
       "      <th>Travel</th>\n",
       "      <td>15</td>\n",
       "    </tr>\n",
       "  </tbody>\n",
       "</table>\n",
       "</div>"
      ],
      "text/plain": [
       "                sentence_length\n",
       "category                       \n",
       "Arts                         17\n",
       "Business                     21\n",
       "Computers                    19\n",
       "Culture                      21\n",
       "Education                    16\n",
       "Electronics                  17\n",
       "Entertainment                17\n",
       "Foods                        14\n",
       "Health                       21\n",
       "Home                         19\n",
       "Other                        18\n",
       "Parenting                    28\n",
       "Pets                         24\n",
       "Politics                     22\n",
       "Recreation                   16\n",
       "Relationships                31\n",
       "Science                      15\n",
       "Social                       21\n",
       "Sports                       17\n",
       "Style                        19\n",
       "Transportation               19\n",
       "Travel                       15"
      ]
     },
     "execution_count": 10,
     "metadata": {},
     "output_type": "execute_result"
    }
   ],
   "source": [
    "train_df.groupby(train_df.category).mean().astype('int')"
   ]
  },
  {
   "cell_type": "markdown",
   "metadata": {},
   "source": [
    "# 1.c percentage of empty-content samples per catgeory"
   ]
  },
  {
   "cell_type": "code",
   "execution_count": 11,
   "metadata": {},
   "outputs": [
    {
     "data": {
      "text/html": [
       "<div>\n",
       "<style scoped>\n",
       "    .dataframe tbody tr th:only-of-type {\n",
       "        vertical-align: middle;\n",
       "    }\n",
       "\n",
       "    .dataframe tbody tr th {\n",
       "        vertical-align: top;\n",
       "    }\n",
       "\n",
       "    .dataframe thead th {\n",
       "        text-align: right;\n",
       "    }\n",
       "</style>\n",
       "<table border=\"1\" class=\"dataframe\">\n",
       "  <thead>\n",
       "    <tr style=\"text-align: right;\">\n",
       "      <th></th>\n",
       "      <th>Percent</th>\n",
       "    </tr>\n",
       "    <tr>\n",
       "      <th>category</th>\n",
       "      <th></th>\n",
       "    </tr>\n",
       "  </thead>\n",
       "  <tbody>\n",
       "    <tr>\n",
       "      <th>Arts</th>\n",
       "      <td>36.234458</td>\n",
       "    </tr>\n",
       "    <tr>\n",
       "      <th>Business</th>\n",
       "      <td>32.694938</td>\n",
       "    </tr>\n",
       "    <tr>\n",
       "      <th>Computers</th>\n",
       "      <td>29.656160</td>\n",
       "    </tr>\n",
       "    <tr>\n",
       "      <th>Culture</th>\n",
       "      <td>30.919881</td>\n",
       "    </tr>\n",
       "    <tr>\n",
       "      <th>Education</th>\n",
       "      <td>36.272321</td>\n",
       "    </tr>\n",
       "    <tr>\n",
       "      <th>Electronics</th>\n",
       "      <td>31.634446</td>\n",
       "    </tr>\n",
       "    <tr>\n",
       "      <th>Entertainment</th>\n",
       "      <td>32.562215</td>\n",
       "    </tr>\n",
       "    <tr>\n",
       "      <th>Foods</th>\n",
       "      <td>38.565891</td>\n",
       "    </tr>\n",
       "    <tr>\n",
       "      <th>Health</th>\n",
       "      <td>28.514324</td>\n",
       "    </tr>\n",
       "    <tr>\n",
       "      <th>Home</th>\n",
       "      <td>36.023055</td>\n",
       "    </tr>\n",
       "    <tr>\n",
       "      <th>Other</th>\n",
       "      <td>34.876543</td>\n",
       "    </tr>\n",
       "    <tr>\n",
       "      <th>Parenting</th>\n",
       "      <td>18.042813</td>\n",
       "    </tr>\n",
       "    <tr>\n",
       "      <th>Pets</th>\n",
       "      <td>21.645022</td>\n",
       "    </tr>\n",
       "    <tr>\n",
       "      <th>Politics</th>\n",
       "      <td>31.981982</td>\n",
       "    </tr>\n",
       "    <tr>\n",
       "      <th>Recreation</th>\n",
       "      <td>27.568493</td>\n",
       "    </tr>\n",
       "    <tr>\n",
       "      <th>Relationships</th>\n",
       "      <td>16.127677</td>\n",
       "    </tr>\n",
       "    <tr>\n",
       "      <th>Science</th>\n",
       "      <td>37.755102</td>\n",
       "    </tr>\n",
       "    <tr>\n",
       "      <th>Social</th>\n",
       "      <td>30.935252</td>\n",
       "    </tr>\n",
       "    <tr>\n",
       "      <th>Sports</th>\n",
       "      <td>34.534535</td>\n",
       "    </tr>\n",
       "    <tr>\n",
       "      <th>Style</th>\n",
       "      <td>27.436282</td>\n",
       "    </tr>\n",
       "    <tr>\n",
       "      <th>Transportation</th>\n",
       "      <td>35.616438</td>\n",
       "    </tr>\n",
       "    <tr>\n",
       "      <th>Travel</th>\n",
       "      <td>39.333333</td>\n",
       "    </tr>\n",
       "  </tbody>\n",
       "</table>\n",
       "</div>"
      ],
      "text/plain": [
       "                  Percent\n",
       "category                 \n",
       "Arts            36.234458\n",
       "Business        32.694938\n",
       "Computers       29.656160\n",
       "Culture         30.919881\n",
       "Education       36.272321\n",
       "Electronics     31.634446\n",
       "Entertainment   32.562215\n",
       "Foods           38.565891\n",
       "Health          28.514324\n",
       "Home            36.023055\n",
       "Other           34.876543\n",
       "Parenting       18.042813\n",
       "Pets            21.645022\n",
       "Politics        31.981982\n",
       "Recreation      27.568493\n",
       "Relationships   16.127677\n",
       "Science         37.755102\n",
       "Social          30.935252\n",
       "Sports          34.534535\n",
       "Style           27.436282\n",
       "Transportation  35.616438\n",
       "Travel          39.333333"
      ]
     },
     "execution_count": 11,
     "metadata": {},
     "output_type": "execute_result"
    }
   ],
   "source": [
    "empty_content_percent = train_df.where(train_df.content.str.len() == 0).dropna().groupby(train_df.category).size() / \\\n",
    "train_df.groupby(train_df.category).size() * 100\n",
    "pd.DataFrame(empty_content_percent,columns=['Percent'])"
   ]
  },
  {
   "cell_type": "markdown",
   "metadata": {},
   "source": [
    "# 1.d number of unique words, and number of total words"
   ]
  },
  {
   "cell_type": "code",
   "execution_count": 12,
   "metadata": {},
   "outputs": [
    {
     "name": "stdout",
     "output_type": "stream",
     "text": [
      "Number of overall words: 414994\n"
     ]
    }
   ],
   "source": [
    "num_overall_words = train_df['sentence_length'].sum()\n",
    "print(\"Number of overall words: {}\".format(num_overall_words))"
   ]
  },
  {
   "cell_type": "code",
   "execution_count": 13,
   "metadata": {},
   "outputs": [
    {
     "name": "stdout",
     "output_type": "stream",
     "text": [
      "Number of unique words: 19801\n"
     ]
    }
   ],
   "source": [
    "num_unique_words = len(set(reduce(set.union , [set(x) for x in train_df['content'].tolist()])).union(reduce(set.union , [set(x) for x in train_df['subject'].tolist()])))\n",
    "\n",
    "print(\"Number of unique words: {}\".format(num_unique_words))"
   ]
  },
  {
   "cell_type": "markdown",
   "metadata": {},
   "source": [
    "## Classifications"
   ]
  },
  {
   "cell_type": "markdown",
   "metadata": {},
   "source": [
    "### Nearest Centroid"
   ]
  },
  {
   "cell_type": "code",
   "execution_count": 14,
   "metadata": {},
   "outputs": [],
   "source": [
    "categories = get_categories('categories.txt')\n",
    "label_encoder = get_label_encoder(categories)\n",
    "X_train, y_train, X_test = get_train_test(train, test, label_encoder)"
   ]
  },
  {
   "cell_type": "code",
   "execution_count": 15,
   "metadata": {},
   "outputs": [],
   "source": [
    "def compute_min_centroid(x,centroids):\n",
    "    min_d = np.inf\n",
    "    min_cat = -1\n",
    "    for k,v in centroids.iteritems():\n",
    "        d = euclidean(x,v)\n",
    "        if d < min_d:\n",
    "            min_d = d\n",
    "            min_cat = k\n",
    "    return min_cat"
   ]
  },
  {
   "cell_type": "markdown",
   "metadata": {},
   "source": [
    "# Training and cross validating"
   ]
  },
  {
   "cell_type": "code",
   "execution_count": 21,
   "metadata": {},
   "outputs": [
    {
     "name": "stdout",
     "output_type": "stream",
     "text": [
      "Train accuracy: 62.2740568514%\n",
      "Val accuracy for fold 1 is: 52.6173691315%\n",
      "Train accuracy: 63.159078977%\n",
      "Val accuracy for fold 2 is: 52.6323683816%\n",
      "Train accuracy: 62.6968651567%\n",
      "Val accuracy for fold 3 is: 52.400240024%\n"
     ]
    }
   ],
   "source": [
    "from sklearn.model_selection import KFold\n",
    "kf = KFold(n_splits=3,shuffle=True)\n",
    "kf.get_n_splits(train_df)\n",
    "best_count_vect = {}\n",
    "best_tfidf_transfomer = {}\n",
    "best_centroids = {}\n",
    "best_val_accuracy = -np.inf\n",
    "fold_ind=1\n",
    "\n",
    "for train_index, val_index in kf.split(train_df):\n",
    "    #split for train and val\n",
    "    X_train_split, X_val_split = np.asarray(X_train)[train_index].tolist(), np.asarray(X_train)[val_index].tolist()\n",
    "    \n",
    "    count_vect = CountVectorizer()\n",
    "    X_train_counts = count_vect.fit_transform(X_train_split)\n",
    "    X_val_counts = count_vect.transform(X_val_split)\n",
    "    \n",
    "    tfidf_transformer = TfidfTransformer()\n",
    "    X_train_tfidf = tfidf_transformer.fit_transform(X_train_counts)\n",
    "    X_val_tfidf = tfidf_transformer.transform(X_val_counts)\n",
    "    \n",
    "    train_df=train_df.astype('object')\n",
    "    train_df.loc[train_index,'tfidf'] = X_train_tfidf.toarray().tolist()\n",
    "    train_df.loc[val_index,'tfidf'] = X_val_tfidf.toarray().tolist()\n",
    "    \n",
    "    train_grouped_categories_tfidf = train_df.iloc[train_index].groupby(train_df.category)['tfidf']\n",
    "    \n",
    "    train_centroids = {}\n",
    "    for n,g in train_grouped_categories_tfidf:\n",
    "        class_label = label_encoder.transform([str(n)])[0]\n",
    "        tfidf_mat = np.array(g.values)\n",
    "        tfidf_mat = np.stack(tfidf_mat, axis=0)\n",
    "        train_centroids[class_label] = tfidf_mat.mean(axis=0)\n",
    "    \n",
    "    train_df.loc[train_index,'min_centroid'] = train_df.loc[train_index]['tfidf'].apply(lambda x:compute_min_centroid(x,train_centroids))\n",
    "    train_df.loc[val_index,'min_centroid'] = train_df.loc[val_index]['tfidf'].apply(lambda x:compute_min_centroid(x,train_centroids))\n",
    "    \n",
    "    train_predicted_categories = label_encoder.inverse_transform(train_df.iloc[train_index]['min_centroid'].values.astype('int').tolist())\n",
    "    val_predicted_categories = label_encoder.inverse_transform(train_df.iloc[val_index]['min_centroid'].values.astype('int').tolist())\n",
    "    \n",
    "    train_pred_vs_truth = pd.DataFrame(np.vstack((train_df.iloc[train_index]['category'].values,train_predicted_categories))).transpose()\n",
    "    val_pred_vs_truth = pd.DataFrame(np.vstack((train_df.iloc[val_index]['category'].values,val_predicted_categories))).transpose()\n",
    "    train_pred_vs_truth.columns = ['truth','pred']\n",
    "    val_pred_vs_truth.columns = ['truth','pred']\n",
    "    \n",
    "    train_accuracy = (len(train_pred_vs_truth.where(train_pred_vs_truth['truth'] == train_pred_vs_truth['pred']).dropna()) / \\\n",
    "            float(len(train_pred_vs_truth))) * 100\n",
    "    val_accuracy = (len(val_pred_vs_truth.where(val_pred_vs_truth['truth'] == val_pred_vs_truth['pred']).dropna()) / \\\n",
    "            float(len(val_pred_vs_truth))) * 100\n",
    "    \n",
    "    if val_accuracy > best_val_accuracy:\n",
    "        best_val_accuracy = val_accuracy\n",
    "        best_count_vect = count_vect\n",
    "        best_tfidf_transfomer = tfidf_transformer\n",
    "        best_train_centroids = train_centroids\n",
    "        \n",
    "    print(\"Train accuracy: {}%\".format(train_accuracy))\n",
    "    print(\"Val accuracy for fold {} is: {}%\".format(fold_ind,val_accuracy))\n",
    "    fold_ind = fold_ind + 1"
   ]
  },
  {
   "cell_type": "markdown",
   "metadata": {},
   "source": [
    "# Prediction on test set"
   ]
  },
  {
   "cell_type": "code",
   "execution_count": 22,
   "metadata": {},
   "outputs": [],
   "source": [
    "X_test_counts = best_count_vect.transform(X_test)\n",
    "X_test_tfidf = best_tfidf_transfomer.transform(X_test_counts)\n",
    "test_df['tfidf'] = X_test_tfidf.toarray().tolist()\n",
    "test_df['min_centroid'] = test_df['tfidf'].apply(lambda x:compute_min_centroid(x,best_train_centroids))\n",
    "test_predicted_categories = label_encoder.inverse_transform(test_df['min_centroid'].values.astype('int').tolist())"
   ]
  },
  {
   "cell_type": "code",
   "execution_count": 23,
   "metadata": {},
   "outputs": [],
   "source": [
    "with open('output1.txt','wb') as f:\n",
    "    for pred in test_predicted_categories:\n",
    "        f.write(\"{}\\n\".format(pred))"
   ]
  },
  {
   "cell_type": "markdown",
   "metadata": {},
   "source": [
    "### LSTM (Deep Learning)"
   ]
  },
  {
   "cell_type": "code",
   "execution_count": null,
   "metadata": {},
   "outputs": [],
   "source": [
    "from keras.models import Model, Sequential\n",
    "from keras.layers import Dense, Embedding, LSTM, Dropout, Bidirectional\n",
    "from keras.preprocessing import text, sequence\n",
    "from keras.callbacks import EarlyStopping\n",
    "from keras import regularizers\n",
    "from numpy import argmax\n",
    "from collections import Counter\n",
    "\n",
    "hyper_params = {\n",
    "    'validation_split': 0.01,\n",
    "    'batch_size': 32,\n",
    "    'epochs': 3,\n",
    "    'embedding_size': 1024,\n",
    "    'keep_probability': 0.5,\n",
    "    'lstm_size': 32,\n",
    "    'max_sequence': 100,\n",
    "    'l2_regularization': 0.01\n",
    "}\n",
    "\n",
    "categories = get_categories('categories.txt')\n",
    "label_encoder = get_label_encoder(categories)\n",
    "X_train, y_train, X_test = get_train_test(train, test, label_encoder)\n",
    "tokenizer = text.Tokenizer()\n",
    "tokenizer.fit_on_texts(set(X_train).union(set(X_test)))\n",
    "train_tokenized = tokenizer.texts_to_sequences(X_train)\n",
    "test_tokenized = tokenizer.texts_to_sequences(X_test)\n",
    "X_train = sequence.pad_sequences(train_tokenized, maxlen=hyper_params['max_sequence'])\n",
    "X_test = sequence.pad_sequences(test_tokenized, maxlen=hyper_params['max_sequence'])\n",
    "vocab_size = len(Counter([token for sublist in train_tokenized + test_tokenized for token in sublist])) + 1\n",
    "\n",
    "model = Sequential()\n",
    "model.add(Embedding(vocab_size, hyper_params['embedding_size']))\n",
    "model.add(Bidirectional(LSTM(hyper_params['lstm_size'])))\n",
    "model.add(Dropout(1 - hyper_params['keep_probability']))\n",
    "model.add(Dense(len(categories), activation='softmax'))          \n",
    "model.compile(optimizer='adam', loss='categorical_crossentropy', metrics=['acc'])\n",
    "\n",
    "model.fit(X_train, y_train, batch_size=hyper_params['batch_size'], epochs=hyper_params['epochs'], \n",
    "          validation_split=hyper_params['validation_split'], shuffle=True, \n",
    "          callbacks=[EarlyStopping(monitor=\"val_loss\", mode=\"min\", patience=1)])\n",
    "\n",
    "predictions = [label_encoder.inverse_transform([argmax(result)])[0] for result in model.predict(X_test)]\n",
    "output_file = open('output2.txt', 'w')\n",
    "for item in predictions:\n",
    "    output_file.write(\"%s\\n\" % item)"
   ]
  }
 ],
 "metadata": {
  "kernelspec": {
   "display_name": "Python 2",
   "language": "python",
   "name": "python2"
  },
  "language_info": {
   "codemirror_mode": {
    "name": "ipython",
    "version": 2
   },
   "file_extension": ".py",
   "mimetype": "text/x-python",
   "name": "python",
   "nbconvert_exporter": "python",
   "pygments_lexer": "ipython2",
   "version": "2.7.14"
  }
 },
 "nbformat": 4,
 "nbformat_minor": 2
}
